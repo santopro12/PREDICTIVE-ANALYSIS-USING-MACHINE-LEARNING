{
 "cells": [
  {
   "cell_type": "code",
   "execution_count": 12,
   "id": "04abae3a-0d12-4ee5-8b23-06099d04f175",
   "metadata": {},
   "outputs": [],
   "source": [
    "import pandas as pd"
   ]
  },
  {
   "cell_type": "code",
   "execution_count": 16,
   "id": "79df9829-d853-4a5b-94fb-ba384de4b6ff",
   "metadata": {},
   "outputs": [],
   "source": [
    "data = '''StudyHours,SleepHours,AttendanceRate,PracticeTests,Pass\n",
    "2,5,60,1,0\n",
    "3,6,65,2,0\n",
    "4,6,70,2,0\n",
    "5,7,75,3,0\n",
    "6,7,80,4,1\n",
    "7,8,85,5,1\n",
    "8,8,90,5,1\n",
    "9,9,95,6,1\n",
    "10,9,97,7,1\n",
    "1,4,50,0,0'''\n"
   ]
  },
  {
   "cell_type": "code",
   "execution_count": 17,
   "id": "01ad8d5e-288f-48d0-8b77-f48b08ce854b",
   "metadata": {},
   "outputs": [],
   "source": [
    "with open('student_performance.csv','w') as f:\n",
    "    f.write(data)"
   ]
  },
  {
   "cell_type": "code",
   "execution_count": 18,
   "id": "2318f323-75d4-4613-ab3b-4770c5b34228",
   "metadata": {},
   "outputs": [],
   "source": [
    "df= pd.read_csv('student_performance.csv')"
   ]
  },
  {
   "cell_type": "code",
   "execution_count": null,
   "id": "1301f876-8234-4797-8479-04f2bff04eed",
   "metadata": {},
   "outputs": [],
   "source": []
  },
  {
   "cell_type": "code",
   "execution_count": null,
   "id": "067801f9-a893-424f-8a54-f00ab0b03942",
   "metadata": {},
   "outputs": [],
   "source": []
  }
 ],
 "metadata": {
  "kernelspec": {
   "display_name": "Python 3 (ipykernel)",
   "language": "python",
   "name": "python3"
  },
  "language_info": {
   "codemirror_mode": {
    "name": "ipython",
    "version": 3
   },
   "file_extension": ".py",
   "mimetype": "text/x-python",
   "name": "python",
   "nbconvert_exporter": "python",
   "pygments_lexer": "ipython3",
   "version": "3.12.7"
  }
 },
 "nbformat": 4,
 "nbformat_minor": 5
}
